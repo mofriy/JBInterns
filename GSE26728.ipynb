{
 "cells": [
  {
   "cell_type": "code",
   "execution_count": 1,
   "metadata": {},
   "outputs": [],
   "source": [
    "def isInt(value):\n",
    "    try:\n",
    "        int(value)\n",
    "        return True\n",
    "    except ValueError:\n",
    "        return False\n",
    "    \n",
    "path = 'C:/Users/Peter the Pigeon/Internships/JetBrains/MolSynt/datas/GSM'\n",
    "length = 45028"
   ]
  },
  {
   "cell_type": "code",
   "execution_count": 2,
   "metadata": {
    "scrolled": true
   },
   "outputs": [
    {
     "name": "stdout",
     "output_type": "stream",
     "text": [
      "Was found 259 duplicated genes\n"
     ]
    }
   ],
   "source": [
    "filesC = [open(path +str(i+658074)+'_C'+str(i)+'.txt') for i in range(1,7)]\n",
    "\n",
    "genesC = {}             #(SystematicName): (GeneName, gProcessedSignal,dublicates)\n",
    "\n",
    "for i in range(length):\n",
    "    lines = [f.readline() for f in filesC]\n",
    "    words = [line.split() for line in lines]\n",
    "    if words[0][0]=='DATA' and isInt(words[0][1]) and isInt(words[0][2]) and isInt(words[0][3]) and not isInt(words[0][4]):\n",
    "        \n",
    "        systematic_name = words[0][9]\n",
    "        gene_name = words[0][10]\n",
    "        processed_signal = sum(float(words[i][-42]) for i in range(6))/6\n",
    "        \n",
    "        if systematic_name in genesC.keys():\n",
    "            processedsignal, dubls = genesC[systematic_name][1:]\n",
    "            genesC[systematic_name] = (gene_name, (dubls*processedsignal+processed_signal)/(dubls+1), dubls+1)\n",
    "        else:\n",
    "            genesC[systematic_name] = (gene_name, processed_signal, 1)\n",
    "                                   \n",
    "for file in filesC:\n",
    "    file.close()\n",
    "    \n",
    "dublicates = 0\n",
    "for i in genesC.values():\n",
    "    if i[2] != 1:\n",
    "        dublicates += 1\n",
    "print(\"Was found {} duplicated genes\".format(dublicates))"
   ]
  },
  {
   "cell_type": "code",
   "execution_count": 3,
   "metadata": {},
   "outputs": [],
   "source": [
    "f = open(path[:-3]+'/control_out.txt', mode='w')\n",
    "f.write('{:20s} {:15s} {:20s} {:15s}\\n'.format('Systematic name', 'Gene name', 'Processed Signal', 'isDublicated'))\n",
    "\n",
    "for i,j in genesC.items():\n",
    "    f.write('{:20s} {:15s} {:20s} {:15s}\\n'.format(i, j[0], str(j[1]), str(j[2]==1)))\n",
    "\n",
    "f.flush()\n",
    "f.close()"
   ]
  },
  {
   "cell_type": "code",
   "execution_count": 4,
   "metadata": {},
   "outputs": [],
   "source": [
    "filesLow = [open(path +str(i+658080)+'_TDI'+str(i)+'.txt') for i in range(1,7)]\n",
    "\n",
    "genesLow = {}             #(SystematicName): (GeneName, gProcessedSignal,dublicates)\n",
    "\n",
    "for i in range(length):\n",
    "    lines = [f.readline() for f in filesLow]\n",
    "    words = [line.split() for line in lines]\n",
    "    if words[0][0]=='DATA' and isInt(words[0][1]) and isInt(words[0][2]) and isInt(words[0][3]) and not isInt(words[0][4]):\n",
    "        \n",
    "        systematic_name = words[0][9]\n",
    "        gene_name = words[0][10]\n",
    "        processed_signal = sum(float(words[i][-42]) for i in range(6))/6\n",
    "        \n",
    "        if systematic_name in genesLow.keys():\n",
    "            processedsignal, dubls = genesLow[systematic_name][1:]\n",
    "            genesLow[systematic_name] = (gene_name, (dubls*processedsignal+processed_signal)/(dubls+1), dubls+1)\n",
    "        else:\n",
    "            genesLow[systematic_name] = (gene_name, processed_signal, 1)\n",
    "                                   \n",
    "for file in filesLow:\n",
    "    file.close()"
   ]
  },
  {
   "cell_type": "code",
   "execution_count": 5,
   "metadata": {},
   "outputs": [],
   "source": [
    "f = open(path[:-3]+'/low_out.txt', mode='w')\n",
    "f.write('{:20s} {:15s} {:20s} {:15s}\\n'.format('Systematic name', 'Gene name', 'Processed Signal', 'isDublicated'))\n",
    "\n",
    "for i,j in genesLow.items():\n",
    "    f.write('{:20s} {:15s} {:20s} {:15s}\\n'.format(i, j[0], str(j[1]), str(j[2]==1)))\n",
    "\n",
    "f.flush()\n",
    "f.close()"
   ]
  },
  {
   "cell_type": "code",
   "execution_count": 6,
   "metadata": {},
   "outputs": [],
   "source": [
    "filesHigh = [open(path +str(i+658086)+'_NOAEL'+str(i)+'.txt') for i in range(1,7)]\n",
    "\n",
    "genesHigh = {}             #(SystematicName): (GeneName, gProcessedSignal,dublicates)\n",
    "\n",
    "for i in range(length):\n",
    "    lines = [file.readline() for file in filesHigh]\n",
    "    words = [line.split() for line in lines]\n",
    "    if words[0][0]=='DATA' and isInt(words[0][1]) and isInt(words[0][2]) and isInt(words[0][3]) and not isInt(words[0][4]):\n",
    "        \n",
    "        systematic_name = words[0][9]\n",
    "        gene_name = words[0][10]\n",
    "        processed_signal = sum(float(words[i][-42]) for i in range(6))/6\n",
    "        \n",
    "        if systematic_name in genesHigh.keys():\n",
    "            processedsignal, dubls = genesHigh[systematic_name][1:]\n",
    "            genesHigh[systematic_name] = (gene_name, (dubls*processedsignal+processed_signal)/(dubls+1), dubls+1)\n",
    "        else:\n",
    "            genesHigh[systematic_name] = (gene_name, processed_signal, 1)\n",
    "                                   \n",
    "for file in filesHigh:\n",
    "    file.close()"
   ]
  },
  {
   "cell_type": "code",
   "execution_count": 7,
   "metadata": {},
   "outputs": [],
   "source": [
    "f = open(path[:-3]+'/high_out.txt', mode='w')\n",
    "f.write('{:20s} {:15s} {:20s} {:15s}\\n'.format('Systematic name', 'Gene name', 'Processed Signal', 'isDublicated'))\n",
    "\n",
    "for i,j in genesHigh.items():\n",
    "    f.write('{:20s} {:15s} {:20s} {:15s}\\n'.format(i, j[0], str(j[1]), str(j[2]==1)))\n",
    "\n",
    "f.flush()\n",
    "f.close()"
   ]
  },
  {
   "cell_type": "code",
   "execution_count": 8,
   "metadata": {},
   "outputs": [],
   "source": [
    "f = open(path[:-3]+'/final_out.txt', mode='w')\n",
    "f.write('{:20s} {:15s} {:20s}\\n'.format('Systematic name', 'Gene name', 'Processed Signal'))\n",
    "\n",
    "for i in genesC.keys():\n",
    "    j,k,l = genesC[i], genesLow[i], genesHigh[i]\n",
    "    f.write('{:20s} {:15s} {:20s}\\n'.format(i, j[0], str((j[1]+k[1]+l[1])/3)))\n",
    "\n",
    "f.flush()\n",
    "f.close()"
   ]
  },
  {
   "cell_type": "code",
   "execution_count": null,
   "metadata": {},
   "outputs": [],
   "source": []
  }
 ],
 "metadata": {
  "kernelspec": {
   "display_name": "Python 3",
   "language": "python",
   "name": "python3"
  },
  "language_info": {
   "codemirror_mode": {
    "name": "ipython",
    "version": 3
   },
   "file_extension": ".py",
   "mimetype": "text/x-python",
   "name": "python",
   "nbconvert_exporter": "python",
   "pygments_lexer": "ipython3",
   "version": "3.7.6"
  }
 },
 "nbformat": 4,
 "nbformat_minor": 4
}
