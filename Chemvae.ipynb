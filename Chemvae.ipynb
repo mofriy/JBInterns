{
 "cells": [
  {
   "cell_type": "code",
   "execution_count": 1,
   "metadata": {},
   "outputs": [
    {
     "name": "stderr",
     "output_type": "stream",
     "text": [
      "RDKit WARNING: [01:12:37] Enabling RDKit 2019.09.3 jupyter extensions\n",
      "Using TensorFlow backend.\n",
      "D:\\anaconda\\envs\\chemvae\\lib\\site-packages\\tensorflow\\python\\framework\\dtypes.py:523: FutureWarning: Passing (type, 1) or '1type' as a synonym of type is deprecated; in a future version of numpy, it will be understood as (type, (1,)) / '(1,)type'.\n",
      "  _np_qint8 = np.dtype([(\"qint8\", np.int8, 1)])\n",
      "D:\\anaconda\\envs\\chemvae\\lib\\site-packages\\tensorflow\\python\\framework\\dtypes.py:524: FutureWarning: Passing (type, 1) or '1type' as a synonym of type is deprecated; in a future version of numpy, it will be understood as (type, (1,)) / '(1,)type'.\n",
      "  _np_quint8 = np.dtype([(\"quint8\", np.uint8, 1)])\n",
      "D:\\anaconda\\envs\\chemvae\\lib\\site-packages\\tensorflow\\python\\framework\\dtypes.py:525: FutureWarning: Passing (type, 1) or '1type' as a synonym of type is deprecated; in a future version of numpy, it will be understood as (type, (1,)) / '(1,)type'.\n",
      "  _np_qint16 = np.dtype([(\"qint16\", np.int16, 1)])\n",
      "D:\\anaconda\\envs\\chemvae\\lib\\site-packages\\tensorflow\\python\\framework\\dtypes.py:526: FutureWarning: Passing (type, 1) or '1type' as a synonym of type is deprecated; in a future version of numpy, it will be understood as (type, (1,)) / '(1,)type'.\n",
      "  _np_quint16 = np.dtype([(\"quint16\", np.uint16, 1)])\n",
      "D:\\anaconda\\envs\\chemvae\\lib\\site-packages\\tensorflow\\python\\framework\\dtypes.py:527: FutureWarning: Passing (type, 1) or '1type' as a synonym of type is deprecated; in a future version of numpy, it will be understood as (type, (1,)) / '(1,)type'.\n",
      "  _np_qint32 = np.dtype([(\"qint32\", np.int32, 1)])\n",
      "D:\\anaconda\\envs\\chemvae\\lib\\site-packages\\tensorflow\\python\\framework\\dtypes.py:532: FutureWarning: Passing (type, 1) or '1type' as a synonym of type is deprecated; in a future version of numpy, it will be understood as (type, (1,)) / '(1,)type'.\n",
      "  np_resource = np.dtype([(\"resource\", np.ubyte, 1)])\n"
     ]
    }
   ],
   "source": [
    "from os import environ\n",
    "environ['KERAS_BACKEND'] = 'tensorflow'\n",
    "\n",
    "from chemvae.vae_utils import VAEUtils\n",
    "from chemvae import mol_utils as mu\n",
    "\n",
    "import numpy as np\n",
    "import pandas as pd\n",
    "\n",
    "from rdkit.Chem import AllChem as Chem\n",
    "from rdkit.Chem import PandasTools\n",
    "\n",
    "%config InlineBackend.figure_format = 'retina'"
   ]
  },
  {
   "cell_type": "code",
   "execution_count": 2,
   "metadata": {},
   "outputs": [
    {
     "name": "stderr",
     "output_type": "stream",
     "text": [
      "From D:\\anaconda\\envs\\chemvae\\lib\\site-packages\\keras\\backend\\tensorflow_backend.py:1210: calling reduce_prod (from tensorflow.python.ops.math_ops) with keep_dims is deprecated and will be removed in a future version.\n",
      "Instructions for updating:\n",
      "keep_dims is deprecated, use keepdims instead\n",
      "D:\\anaconda\\envs\\chemvae\\lib\\site-packages\\keras\\models.py:245: UserWarning: No training configuration found in save file: the model was *not* compiled. Compile it manually.\n",
      "  warnings.warn('No training configuration found in save file: '\n",
      "From D:\\anaconda\\envs\\chemvae\\lib\\site-packages\\keras\\backend\\tensorflow_backend.py:1192: calling reduce_sum (from tensorflow.python.ops.math_ops) with keep_dims is deprecated and will be removed in a future version.\n",
      "Instructions for updating:\n",
      "keep_dims is deprecated, use keepdims instead\n",
      "From D:\\anaconda\\envs\\chemvae\\lib\\site-packages\\keras\\backend\\tensorflow_backend.py:1156: calling reduce_max (from tensorflow.python.ops.math_ops) with keep_dims is deprecated and will be removed in a future version.\n",
      "Instructions for updating:\n",
      "keep_dims is deprecated, use keepdims instead\n"
     ]
    },
    {
     "name": "stdout",
     "output_type": "stream",
     "text": [
      "Using standarized functions? True\n",
      "Standarization: estimating mu and std values ...done!\n"
     ]
    }
   ],
   "source": [
    "vae = VAEUtils(directory='./chemvae/models/zinc_properties')"
   ]
  },
  {
   "cell_type": "code",
   "execution_count": 3,
   "metadata": {},
   "outputs": [
    {
     "name": "stdout",
     "output_type": "stream",
     "text": [
      "Input                : Cc1ccc(S2(=O)=NC(=O)Nc3ccccc32)cc1\n",
      "Reconstruction       : Cc1ccc(-](=OC(NC(=O)Nc3ccccc32)cc1\n",
      "Properties:\n",
      "  qed:    0.7231325507164001,\n",
      "  SAS:    2.410372495651245,\n",
      "  logP:   3.1467232704162598\n"
     ]
    }
   ],
   "source": [
    "smiles_1 = mu.canon_smiles('Cc1ccc(S2(=O)=NC(=O)Nc3ccccc32)cc1')\n",
    "\n",
    "X_1 = vae.smiles_to_hot(smiles_1,canonize_smiles=True)\n",
    "z_1 = vae.encode(X_1)\n",
    "X_r1= vae.decode(z_1)\n",
    "\n",
    "print('{:20s} : {}'.format('Input',smiles_1))\n",
    "print('{:20s} : {}'.format('Reconstruction',vae.hot_to_smiles(X_r1,strip=True)[0]))\n",
    "\n",
    "y_1 = vae.predict_prop_Z(z_1)[0]\n",
    "print('Properties:')\n",
    "print('  qed:    {},\\n  SAS:    {},\\n  logP:   {}'.format(y_1[0],y_1[1],y_1[2],))"
   ]
  },
  {
   "cell_type": "code",
   "execution_count": 4,
   "metadata": {},
   "outputs": [
    {
     "name": "stdout",
     "output_type": "stream",
     "text": [
      "Input                : CN(Cc1ccc2c(c1)C(=O)CC2)C(=O)OC(C)(C)C\n",
      "Reconstruction       : CN(C)cccc2c(c1)C(=O)CC@)C(=O)OC(C)(C)C\n",
      "Properties:\n",
      "  qed:    0.8115883469581604,\n",
      "  SAS:    2.219855308532715,\n",
      "  logP:   2.4382762908935547\n"
     ]
    }
   ],
   "source": [
    "smiles_2 = mu.canon_smiles('CN(Cc1ccc2c(c1)C(=O)CC2)C(=O)OC(C)(C)C')\n",
    "\n",
    "X_2 = vae.smiles_to_hot(smiles_2,canonize_smiles=True)\n",
    "z_2 = vae.encode(X_2)\n",
    "X_r2= vae.decode(z_2)\n",
    "\n",
    "print('{:20s} : {}'.format('Input',smiles_2))\n",
    "print('{:20s} : {}'.format('Reconstruction',vae.hot_to_smiles(X_r2,strip=True)[0]))\n",
    "\n",
    "y_2 = vae.predict_prop_Z(z_2)[0]\n",
    "print('Properties:')\n",
    "print('  qed:    {},\\n  SAS:    {},\\n  logP:   {}'.format(y_2[0],y_2[1],y_2[2],))"
   ]
  },
  {
   "cell_type": "code",
   "execution_count": 5,
   "metadata": {},
   "outputs": [
    {
     "name": "stdout",
     "output_type": "stream",
     "text": [
      "Input                : COC(=O)C1CCC(Oc2ccc(NC(=O)C(=O)NN)cn2)CC1\n",
      "Reconstruction       : COC(=O)C1CCC(Oc2ccc(NC(=O)C(=O)N=C)n2)CC1\n",
      "Properties:\n",
      "  qed:    0.7531524896621704,\n",
      "  SAS:    2.4784982204437256,\n",
      "  logP:   0.0503462553024292\n"
     ]
    }
   ],
   "source": [
    "smiles_3 = mu.canon_smiles('COC(=O)C1CCC(Oc2ccc(NC(=O)C(=O)NN)cn2)CC1')\n",
    "\n",
    "X_3 = vae.smiles_to_hot(smiles_3,canonize_smiles=True)\n",
    "z_3 = vae.encode(X_3)\n",
    "X_r3= vae.decode(z_3)\n",
    "\n",
    "print('{:20s} : {}'.format('Input',smiles_3))\n",
    "print('{:20s} : {}'.format('Reconstruction',vae.hot_to_smiles(X_r3,strip=True)[0]))\n",
    "\n",
    "y_3 = vae.predict_prop_Z(z_3)[0]\n",
    "print('Properties:')\n",
    "print('  qed:    {},\\n  SAS:    {},\\n  logP:   {}'.format(y_3[0],y_3[1],y_3[2],))"
   ]
  }
 ],
 "metadata": {
  "kernelspec": {
   "display_name": "Python 3",
   "language": "python",
   "name": "python3"
  },
  "language_info": {
   "codemirror_mode": {
    "name": "ipython",
    "version": 3
   },
   "file_extension": ".py",
   "mimetype": "text/x-python",
   "name": "python",
   "nbconvert_exporter": "python",
   "pygments_lexer": "ipython3",
   "version": "3.6.10"
  }
 },
 "nbformat": 4,
 "nbformat_minor": 4
}
